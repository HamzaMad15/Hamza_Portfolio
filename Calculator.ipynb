{
 "cells": [
  {
   "cell_type": "markdown",
   "id": "03d84355-5033-4d4d-b762-a10bc1bfb86d",
   "metadata": {},
   "source": [
    "Calculator"
   ]
  },
  {
   "cell_type": "code",
   "execution_count": null,
   "id": "5f9b8bd6-d217-4197-9b38-cb6876ecb551",
   "metadata": {},
   "outputs": [],
   "source": []
  },
  {
   "cell_type": "code",
   "execution_count": 11,
   "id": "4139b7e5-debf-44b6-b5c4-451ce99b550e",
   "metadata": {},
   "outputs": [],
   "source": [
    "def add(x,y):\n",
    "    return x + y\n",
    "\n",
    "def subtract(x,y):\n",
    "    return x - y\n",
    "\n",
    "def muliply(x,y):\n",
    "    return x * y\n",
    "\n",
    "def divide(x,y):\n",
    "    return x / y"
   ]
  },
  {
   "cell_type": "code",
   "execution_count": 23,
   "id": "89f53130-7e70-4f31-aa4d-c03a792a02b7",
   "metadata": {},
   "outputs": [
    {
     "name": "stdout",
     "output_type": "stream",
     "text": [
      "Enter 'A' for Addition\n",
      "Enter 'S' for Subtraction\n",
      "Enter 'M' for Multiplication\n",
      "Enter 'D' for Division\n"
     ]
    },
    {
     "name": "stdin",
     "output_type": "stream",
     "text": [
      "Enter Choice: (A,S,M,D):  a\n",
      "Enter first number: 23\n",
      "Enter second number: 34\n"
     ]
    },
    {
     "name": "stdout",
     "output_type": "stream",
     "text": [
      "23.0 + 34.0 = 57.0\n"
     ]
    },
    {
     "name": "stdin",
     "output_type": "stream",
     "text": [
      "Want to do another calcultation? (yes/no?):  yes\n",
      "Enter first number: 234\n",
      "Enter second number: 1234\n"
     ]
    },
    {
     "name": "stdout",
     "output_type": "stream",
     "text": [
      "234.0 + 1234.0 = 1468.0\n"
     ]
    },
    {
     "name": "stdin",
     "output_type": "stream",
     "text": [
      "Want to do another calcultation? (yes/no?):  no\n"
     ]
    }
   ],
   "source": [
    "print(\"Enter 'A' for Addition\")\n",
    "print(\"Enter 'S' for Subtraction\")\n",
    "print(\"Enter 'M' for Multiplication\")\n",
    "print(\"Enter 'D' for Division\")\n",
    "\n",
    "\n",
    "choice = input('Enter Choice: (A,S,M,D): ')\n",
    "\n",
    "while True:\n",
    "    if choice.upper() in ('A','ADD','ADDITION','S','SUBTRACT','SUBTRACTION','M','MULTIPLY','MULTIPLICATION','D','DIVIDE','DIVISION'):\n",
    "        num1 = float(input('Enter first number:'))\n",
    "        num2 = float(input('Enter second number:'))\n",
    "\n",
    "    if choice.upper() in('A','ADD','ADDITION'):\n",
    "        print(num1, '+', num2, '=', add(num1,num2))\n",
    "\n",
    "    elif choice.upper() in('S','SUBTRACT','SUBTRACTION'):\n",
    "        print(num1, '-', num2, '=', subtract(num1,num2))\n",
    "\n",
    "    elif choice.upper() in('M','MULTIPLY','MULTIPLICATION'):\n",
    "        print(num1, '*', num2, '=', multiply(num1,num2))\n",
    "    \n",
    "    elif choice.upper() in('D','DIVIDE','DIVISION'):\n",
    "        print(num1, '/', num2, '=', divide(num1,num2))\n",
    "\n",
    "    else:\n",
    "        print(\"Please input a correct choice.\")\n",
    "\n",
    "    next_calculation = input(\"Want to do another calcultation? (yes/no?): \")\n",
    "    if next_calculation.lower() in ('no','n','nope'):\n",
    "        break"
   ]
  }
 ],
 "metadata": {
  "kernelspec": {
   "display_name": "Python 3 (ipykernel)",
   "language": "python",
   "name": "python3"
  },
  "language_info": {
   "codemirror_mode": {
    "name": "ipython",
    "version": 3
   },
   "file_extension": ".py",
   "mimetype": "text/x-python",
   "name": "python",
   "nbconvert_exporter": "python",
   "pygments_lexer": "ipython3",
   "version": "3.12.7"
  }
 },
 "nbformat": 4,
 "nbformat_minor": 5
}
