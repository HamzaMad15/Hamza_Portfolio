{
 "cells": [
  {
   "cell_type": "code",
   "execution_count": 3,
   "id": "d7f23bcc-6402-4768-9936-827f40c6f7ce",
   "metadata": {},
   "outputs": [
    {
     "name": "stdin",
     "output_type": "stream",
     "text": [
      "Enter Starting Unit of Measurment(inches, feet, yards):  inches\n",
      "Enter Unit of Measurment to Convert to(inches, feet, yards):  feet\n",
      "Enter Starting Measurment in Inches:  24\n",
      "Enter Starting Measurment in Feet:  3\n",
      "Enter Starting Measurment in Yards:  1\n"
     ]
    }
   ],
   "source": [
    "convert_from = input(\"Enter Starting Unit of Measurment(inches, feet, yards): \")\n",
    "\n",
    "convert_to = input(\"Enter Unit of Measurment to Convert to(inches, feet, yards): \")\n",
    "\n",
    "number_of_inches = input(\"Enter Starting Measurment in Inches: \")\n",
    "\n",
    "number_of_feet = input(\"Enter Starting Measurment in Feet: \")\n",
    "\n",
    "number_of_yards = input(\"Enter Starting Measurment in Yards: \")"
   ]
  },
  {
   "cell_type": "code",
   "execution_count": 29,
   "id": "5f9b8bd6-d217-4197-9b38-cb6876ecb551",
   "metadata": {},
   "outputs": [
    {
     "name": "stdin",
     "output_type": "stream",
     "text": [
      "Enter Starting Unit of Measurment(inches, feet, yards):  yds\n",
      "Enter Unit of Measurment to Convert to(inches, feet, yards):  ft\n",
      "Enter Starting Measurment in Yards:  36\n"
     ]
    },
    {
     "name": "stdout",
     "output_type": "stream",
     "text": [
      "Result: 36 Yards = 108 Feet\n"
     ]
    }
   ],
   "source": [
    "convert_from = input(\"Enter Starting Unit of Measurment(inches, feet, yards): \")\n",
    "\n",
    "convert_to = input(\"Enter Unit of Measurment to Convert to(inches, feet, yards): \")\n",
    "\n",
    "if convert_from.lower() in [\"inches\",\"in\",\"inch\"]:\n",
    "     number_of_inches = int(input(\"Enter Starting Measurment in Inches: \"))\n",
    "     if convert_to.lower() in [\"feet\",\"foot\",\"ft\"]:\n",
    "         print(\"Result: \" + str(number_of_inches) + \" Inches = \" + str(round(number_of_inches / 12)) + \" Feet\")\n",
    "     elif convert_to.lower() in [\"yards\",\"yard\",\"yds\",\"yd\"]:\n",
    "         print(\"Result: \" + str(number_of_inches) + \" Inches = \" + str(round(number_of_inches / 36)) + \" Yards\")\n",
    "     else:\n",
    "         print(\"Please enter either Inches, Feet, or Yards\")\n",
    "elif convert_from.lower() in [\"feet\",\"foot\",\"ft\"]:\n",
    "     number_of_feet = int(input(\"Enter Starting Measurment in Feet: \"))\n",
    "     if convert_to.lower() in [\"inches\",\"in\",\"inch\"]:\n",
    "         print(\"Result: \" + str(number_of_feet) + \" Feet = \" + str(round(number_of_feet * 12)) + \" Inches\")\n",
    "     elif convert_to.lower() in [\"yards\",\"yard\",\"yds\",\"yd\"]:\n",
    "         print(\"Result: \" + str(number_of_feet) + \" Feet = \" + str(round(number_of_feet / 3)) + \" Yards\")\n",
    "     else:\n",
    "         print(\"Please enter either Inches, Feet, or Yards\")\n",
    "elif convert_from.lower() in [\"yards\",\"yard\",\"yds\",\"yd\"]:\n",
    "     number_of_yards = int(input(\"Enter Starting Measurment in Yards: \"))\n",
    "     if convert_to.lower() in [\"inches\",\"in\",\"inch\"]:\n",
    "         print(\"Result: \" + str(number_of_yards) + \" Yards = \" + str(round(number_of_yards * 36)) + \" Inches\")\n",
    "     elif convert_to.lower() in [\"feet\",\"foot\",\"ft\"]:\n",
    "         print(\"Result: \" + str(number_of_yards) + \" Yards = \" + str(round(number_of_yards * 3)) + \" Feet\")\n",
    "     else:\n",
    "         print(\"Please enter either Inches, Feet, or Yards\")\n",
    "else:\n",
    "         print(\"Please enter either Inches, Feet, or Yards\")    "
   ]
  },
  {
   "cell_type": "code",
   "execution_count": null,
   "id": "4139b7e5-debf-44b6-b5c4-451ce99b550e",
   "metadata": {},
   "outputs": [],
   "source": []
  }
 ],
 "metadata": {
  "kernelspec": {
   "display_name": "Python 3 (ipykernel)",
   "language": "python",
   "name": "python3"
  },
  "language_info": {
   "codemirror_mode": {
    "name": "ipython",
    "version": 3
   },
   "file_extension": ".py",
   "mimetype": "text/x-python",
   "name": "python",
   "nbconvert_exporter": "python",
   "pygments_lexer": "ipython3",
   "version": "3.12.7"
  }
 },
 "nbformat": 4,
 "nbformat_minor": 5
}
